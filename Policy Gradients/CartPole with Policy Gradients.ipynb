{
 "cells": [
  {
   "cell_type": "code",
   "execution_count": 1,
   "metadata": {},
   "outputs": [],
   "source": [
    "import gym\n",
    "from torch.nn import functional as F\n",
    "import torch\n",
    "import torch.nn as nn"
   ]
  },
  {
   "cell_type": "code",
   "execution_count": 13,
   "metadata": {},
   "outputs": [],
   "source": [
    "class Agent(nn.Module):\n",
    "    def __init__(self):\n",
    "        super(Agent,self).__init__()\n",
    "        \n",
    "        self.dense1= nn.Linear(4,15)\n",
    "        self.dense2= nn.Linear(15,15)\n",
    "        \n",
    "        self.dense3= nn.Linear(15,2)\n",
    "        \n",
    "        \n",
    "    def forward(self,x):\n",
    "        \n",
    "        out = self.dense1(x)\n",
    "        out = F.relu(out)\n",
    "        \n",
    "        out = F.dropout(out)\n",
    "        \n",
    "        out = self.dense2(out)\n",
    "        out = F.relu(out)\n",
    "        \n",
    "        out = self.dense3(out)\n",
    "        out = F.softmax(out,dim=-1)\n",
    "        \n",
    "        \n",
    "        return out"
   ]
  },
  {
   "cell_type": "code",
   "execution_count": 22,
   "metadata": {},
   "outputs": [],
   "source": [
    "net = Agent()"
   ]
  },
  {
   "cell_type": "code",
   "execution_count": 23,
   "metadata": {},
   "outputs": [
    {
     "data": {
      "text/plain": [
       "Agent(\n",
       "  (dense1): Linear(in_features=4, out_features=15, bias=True)\n",
       "  (dense2): Linear(in_features=15, out_features=15, bias=True)\n",
       "  (dense3): Linear(in_features=15, out_features=2, bias=True)\n",
       ")"
      ]
     },
     "execution_count": 23,
     "metadata": {},
     "output_type": "execute_result"
    }
   ],
   "source": [
    "net"
   ]
  },
  {
   "cell_type": "code",
   "execution_count": 24,
   "metadata": {},
   "outputs": [],
   "source": [
    "env = gym.make('CartPole-v0')\n"
   ]
  },
  {
   "cell_type": "code",
   "execution_count": 25,
   "metadata": {},
   "outputs": [
    {
     "name": "stderr",
     "output_type": "stream",
     "text": [
      "/Users/harshtiku/Desktop/exp/lib/python3.6/site-packages/torch/nn/functional.py:52: UserWarning: size_average and reduce args will be deprecated, please use reduction='none' instead.\n",
      "  warnings.warn(warning.format(ret))\n"
     ]
    },
    {
     "name": "stdout",
     "output_type": "stream",
     "text": [
      "25.0\n",
      "13.0\n",
      "19.0\n",
      "21.0\n",
      "10.0\n",
      "11.0\n",
      "11.0\n",
      "10.0\n",
      "10.0\n",
      "12.0\n",
      "13.0\n",
      "19.0\n",
      "14.0\n",
      "21.0\n",
      "15.0\n",
      "10.0\n",
      "13.0\n",
      "15.0\n",
      "13.0\n",
      "9.0\n",
      "65.0\n",
      "88.0\n",
      "88.0\n"
     ]
    }
   ],
   "source": [
    "import numpy as np\n",
    "\n",
    "def sample_action(action_probs):\n",
    "    p = action_probs\n",
    "    p = p.ravel()\n",
    "    \n",
    "    cum_p= np.cumsum(p)\n",
    "    \n",
    "    r=np.random.random()\n",
    "    \n",
    "    for i in range(len(p)):\n",
    "        \n",
    "        if r<cum_p[i]:\n",
    "            return i\n",
    "        \n",
    "        \n",
    "        \n",
    "def discount(rewards):\n",
    "    gamma =0.96\n",
    "    \n",
    "    rewards = np.array(rewards)\n",
    "    discounted_rewards = np.zeros_like(rewards)\n",
    "    \n",
    "    for i in range(len(rewards)):\n",
    "        cumsum=0\n",
    "        for j in range(i,len(rewards)):\n",
    "            cumsum+= gamma**(j-i) * rewards[j]\n",
    "        \n",
    "        discounted_rewards[i]=cumsum\n",
    "        \n",
    "    mean=discounted_rewards.mean()\n",
    "    std=discounted_rewards.std()\n",
    "    \n",
    "    discounted_rewards-=mean\n",
    "    discounted_rewards/=std\n",
    "        \n",
    "    return discounted_rewards\n",
    "    \n",
    "        \n",
    "\n",
    "optimiser=torch.optim.Adam(net.parameters(),lr=0.01)\n",
    "count=0\n",
    "for i in range(1000):\n",
    "\n",
    "    states,actions,rewards=[],[],[]\n",
    "    state=env.reset()\n",
    "    done=False\n",
    "    steps=0\n",
    "\n",
    "    while not done:\n",
    "    \n",
    "        states.append(state)\n",
    "        state = torch.from_numpy(state).unsqueeze(0).float()\n",
    "        action_probs = net(state).data.numpy().squeeze(0)\n",
    "        \n",
    "\n",
    "        action = sample_action(action_probs)\n",
    "        actions.append(action)\n",
    "\n",
    "        nextstate,reward,done,_ = env.step(action)\n",
    "        rewards.append(reward)\n",
    "\n",
    "        state = nextstate\n",
    "        steps+=1\n",
    "    \n",
    "    states=np.array(states)\n",
    "    actions=np.array(actions)\n",
    "    rewards=np.array(rewards)\n",
    "    \n",
    "    states = torch.from_numpy(states).float()\n",
    "    actions = torch.from_numpy(actions).long()\n",
    "    \n",
    "    action_prob_log = net(states)\n",
    "    \n",
    "    discounted_rewards = discount(rewards)\n",
    "    discounted_rewards=torch.from_numpy(discounted_rewards).float()\n",
    "    \n",
    "    neg_logloss = F.cross_entropy(action_prob_log,actions,reduce=False)\n",
    "    \n",
    "    loss = torch.mean(neg_logloss * discounted_rewards)\n",
    "    optimiser.zero_grad()\n",
    "    \n",
    "    loss.backward()\n",
    "    \n",
    "    optimiser.step()\n",
    "    \n",
    "    if rewards.sum()==200:\n",
    "        count+=1\n",
    "        if count==5:\n",
    "            break\n",
    "    \n",
    "    if i%20==0:\n",
    "        print(rewards.sum())\n",
    "    \n",
    "    \n",
    "    \n",
    "        \n",
    "    \n",
    "    \n",
    "    "
   ]
  },
  {
   "cell_type": "code",
   "execution_count": 46,
   "metadata": {},
   "outputs": [
    {
     "data": {
      "text/plain": [
       "tensor(1.1033)"
      ]
     },
     "execution_count": 46,
     "metadata": {},
     "output_type": "execute_result"
    }
   ],
   "source": [
    "F.cross_entropy(torch.randn(10,3).float(),torch.randint(size=(10,),high=3).long())"
   ]
  },
  {
   "cell_type": "code",
   "execution_count": 34,
   "metadata": {},
   "outputs": [
    {
     "data": {
      "text/plain": [
       "True"
      ]
     },
     "execution_count": 34,
     "metadata": {},
     "output_type": "execute_result"
    }
   ],
   "source": [
    "len(neg_logloss)==steps"
   ]
  },
  {
   "cell_type": "code",
   "execution_count": 27,
   "metadata": {},
   "outputs": [
    {
     "data": {
      "text/plain": [
       "True"
      ]
     },
     "execution_count": 27,
     "metadata": {},
     "output_type": "execute_result"
    }
   ],
   "source": [
    "len(actions)==len(action_prob_log)"
   ]
  },
  {
   "cell_type": "code",
   "execution_count": 39,
   "metadata": {},
   "outputs": [
    {
     "data": {
      "text/plain": [
       "array([4.99896154, 4.99870193, 4.99837741, 4.99797176, 4.9974647 ,\n",
       "       4.99683087, 4.99603859, 4.99504824, 4.9938103 , 4.99226287,\n",
       "       4.99032859, 4.98791074, 4.98488843, 4.98111053, 4.97638817,\n",
       "       4.97048521, 4.96310651, 4.95388314, 4.94235392, 4.92794241,\n",
       "       4.90992801, 4.88741001, 4.85926251, 4.82407814, 4.78009767,\n",
       "       4.72512209, 4.65640262, 4.57050327, 4.46312909, 4.32891136,\n",
       "       4.1611392 , 3.951424  , 3.68928   , 3.3616    , 2.952     ,\n",
       "       2.44      , 1.8       , 1.        ])"
      ]
     },
     "execution_count": 39,
     "metadata": {},
     "output_type": "execute_result"
    }
   ],
   "source": [
    "discount(rewards)"
   ]
  },
  {
   "cell_type": "code",
   "execution_count": 41,
   "metadata": {},
   "outputs": [
    {
     "ename": "RuntimeError",
     "evalue": "element 0 of tensors does not require grad and does not have a grad_fn",
     "output_type": "error",
     "traceback": [
      "\u001b[0;31m---------------------------------------------------------------------------\u001b[0m",
      "\u001b[0;31mRuntimeError\u001b[0m                              Traceback (most recent call last)",
      "\u001b[0;32m<ipython-input-41-52a0569421b1>\u001b[0m in \u001b[0;36m<module>\u001b[0;34m()\u001b[0m\n\u001b[0;32m----> 1\u001b[0;31m \u001b[0mloss\u001b[0m\u001b[0;34m.\u001b[0m\u001b[0mbackward\u001b[0m\u001b[0;34m(\u001b[0m\u001b[0;34m)\u001b[0m\u001b[0;34m\u001b[0m\u001b[0m\n\u001b[0m",
      "\u001b[0;32m~/Desktop/exp/lib/python3.6/site-packages/torch/tensor.py\u001b[0m in \u001b[0;36mbackward\u001b[0;34m(self, gradient, retain_graph, create_graph)\u001b[0m\n\u001b[1;32m     91\u001b[0m                 \u001b[0mproducts\u001b[0m\u001b[0;34m.\u001b[0m \u001b[0mDefaults\u001b[0m \u001b[0mto\u001b[0m\u001b[0;31m \u001b[0m\u001b[0;31m`\u001b[0m\u001b[0;31m`\u001b[0m\u001b[0;32mFalse\u001b[0m\u001b[0;31m`\u001b[0m\u001b[0;31m`\u001b[0m\u001b[0;34m.\u001b[0m\u001b[0;34m\u001b[0m\u001b[0m\n\u001b[1;32m     92\u001b[0m         \"\"\"\n\u001b[0;32m---> 93\u001b[0;31m         \u001b[0mtorch\u001b[0m\u001b[0;34m.\u001b[0m\u001b[0mautograd\u001b[0m\u001b[0;34m.\u001b[0m\u001b[0mbackward\u001b[0m\u001b[0;34m(\u001b[0m\u001b[0mself\u001b[0m\u001b[0;34m,\u001b[0m \u001b[0mgradient\u001b[0m\u001b[0;34m,\u001b[0m \u001b[0mretain_graph\u001b[0m\u001b[0;34m,\u001b[0m \u001b[0mcreate_graph\u001b[0m\u001b[0;34m)\u001b[0m\u001b[0;34m\u001b[0m\u001b[0m\n\u001b[0m\u001b[1;32m     94\u001b[0m \u001b[0;34m\u001b[0m\u001b[0m\n\u001b[1;32m     95\u001b[0m     \u001b[0;32mdef\u001b[0m \u001b[0mregister_hook\u001b[0m\u001b[0;34m(\u001b[0m\u001b[0mself\u001b[0m\u001b[0;34m,\u001b[0m \u001b[0mhook\u001b[0m\u001b[0;34m)\u001b[0m\u001b[0;34m:\u001b[0m\u001b[0;34m\u001b[0m\u001b[0m\n",
      "\u001b[0;32m~/Desktop/exp/lib/python3.6/site-packages/torch/autograd/__init__.py\u001b[0m in \u001b[0;36mbackward\u001b[0;34m(tensors, grad_tensors, retain_graph, create_graph, grad_variables)\u001b[0m\n\u001b[1;32m     88\u001b[0m     Variable._execution_engine.run_backward(\n\u001b[1;32m     89\u001b[0m         \u001b[0mtensors\u001b[0m\u001b[0;34m,\u001b[0m \u001b[0mgrad_tensors\u001b[0m\u001b[0;34m,\u001b[0m \u001b[0mretain_graph\u001b[0m\u001b[0;34m,\u001b[0m \u001b[0mcreate_graph\u001b[0m\u001b[0;34m,\u001b[0m\u001b[0;34m\u001b[0m\u001b[0m\n\u001b[0;32m---> 90\u001b[0;31m         allow_unreachable=True)  # allow_unreachable flag\n\u001b[0m\u001b[1;32m     91\u001b[0m \u001b[0;34m\u001b[0m\u001b[0m\n\u001b[1;32m     92\u001b[0m \u001b[0;34m\u001b[0m\u001b[0m\n",
      "\u001b[0;31mRuntimeError\u001b[0m: element 0 of tensors does not require grad and does not have a grad_fn"
     ]
    }
   ],
   "source": [
    "loss.backward()"
   ]
  },
  {
   "cell_type": "code",
   "execution_count": 42,
   "metadata": {},
   "outputs": [
    {
     "data": {
      "text/plain": [
       "tensor([0.5991, 0.7990, 0.5991, 0.5973, 0.5927, 0.5855, 0.8212, 0.8133, 0.8049,\n",
       "        0.8003, 0.7983, 0.7955, 0.6008, 0.7949, 0.6010, 0.7946, 0.7945, 0.6027,\n",
       "        0.6013, 0.7940, 0.6012, 0.7938, 0.6011, 0.7936, 0.6010, 0.7939, 0.6008,\n",
       "        0.6013, 0.6002, 0.7978, 0.7954, 0.6003, 0.7951, 0.7959, 0.7954, 0.7951,\n",
       "        0.7965, 0.5986])"
      ]
     },
     "execution_count": 42,
     "metadata": {},
     "output_type": "execute_result"
    }
   ],
   "source": [
    "neg_logloss"
   ]
  },
  {
   "cell_type": "code",
   "execution_count": 44,
   "metadata": {},
   "outputs": [
    {
     "data": {
      "text/plain": [
       "tensor([[0.4011, 0.5989],\n",
       "        [0.3992, 0.6008],\n",
       "        [0.4011, 0.5989],\n",
       "        [0.3991, 0.6009],\n",
       "        [0.3940, 0.6060],\n",
       "        [0.3859, 0.6141],\n",
       "        [0.3792, 0.6208],\n",
       "        [0.3863, 0.6137],\n",
       "        [0.3939, 0.6061],\n",
       "        [0.3980, 0.6020],\n",
       "        [0.3999, 0.6001],\n",
       "        [0.4024, 0.5976],\n",
       "        [0.4029, 0.5971],\n",
       "        [0.4030, 0.5970],\n",
       "        [0.4032, 0.5968],\n",
       "        [0.4032, 0.5968],\n",
       "        [0.4033, 0.5967],\n",
       "        [0.4050, 0.5950],\n",
       "        [0.4035, 0.5965],\n",
       "        [0.4038, 0.5962],\n",
       "        [0.4034, 0.5966],\n",
       "        [0.4040, 0.5960],\n",
       "        [0.4033, 0.5967],\n",
       "        [0.4041, 0.5959],\n",
       "        [0.4032, 0.5968],\n",
       "        [0.4039, 0.5961],\n",
       "        [0.4029, 0.5971],\n",
       "        [0.4035, 0.5965],\n",
       "        [0.4023, 0.5977],\n",
       "        [0.4003, 0.5997],\n",
       "        [0.4025, 0.5975],\n",
       "        [0.4024, 0.5976],\n",
       "        [0.4028, 0.5972],\n",
       "        [0.4020, 0.5980],\n",
       "        [0.4025, 0.5975],\n",
       "        [0.4028, 0.5972],\n",
       "        [0.4015, 0.5985],\n",
       "        [0.4005, 0.5995]], grad_fn=<SoftmaxBackward>)"
      ]
     },
     "execution_count": 44,
     "metadata": {},
     "output_type": "execute_result"
    }
   ],
   "source": [
    "net(torch.from_numpy(states).float())"
   ]
  },
  {
   "cell_type": "code",
   "execution_count": 49,
   "metadata": {},
   "outputs": [
    {
     "data": {
      "text/plain": [
       "torch.Size([34, 2])"
      ]
     },
     "execution_count": 49,
     "metadata": {},
     "output_type": "execute_result"
    }
   ],
   "source": [
    "action_prob_log.shape\n"
   ]
  },
  {
   "cell_type": "code",
   "execution_count": 37,
   "metadata": {},
   "outputs": [
    {
     "data": {
      "text/plain": [
       "tensor(-0.0845, grad_fn=<MeanBackward1>)"
      ]
     },
     "execution_count": 37,
     "metadata": {},
     "output_type": "execute_result"
    }
   ],
   "source": [
    "loss"
   ]
  },
  {
   "cell_type": "code",
   "execution_count": 26,
   "metadata": {},
   "outputs": [
    {
     "name": "stdout",
     "output_type": "stream",
     "text": [
      "136.0\n",
      "200.0\n",
      "200.0\n",
      "200.0\n",
      "200.0\n",
      "200.0\n",
      "200.0\n",
      "200.0\n",
      "200.0\n",
      "200.0\n",
      "186.0\n",
      "200.0\n",
      "200.0\n",
      "123.0\n",
      "111.0\n",
      "200.0\n",
      "200.0\n",
      "175.0\n",
      "171.0\n",
      "200.0\n"
     ]
    }
   ],
   "source": [
    "\n",
    "\n",
    "for i in range(20):\n",
    "    cum=0\n",
    "    state=env.reset()\n",
    "    done=False\n",
    "    while not done:\n",
    "        state=torch.from_numpy(state).unsqueeze(0).float()\n",
    "        action=net(state).data.numpy().argmax()\n",
    "        \n",
    "        #action=env.action_space.sample()\n",
    "\n",
    "        nextstate,reward,done,_ = env.step(action)\n",
    "        cum+=reward\n",
    "        state=nextstate\n",
    "\n",
    "        env.render()\n",
    "    print(cum)\n",
    "    env.close()"
   ]
  },
  {
   "cell_type": "code",
   "execution_count": 18,
   "metadata": {},
   "outputs": [
    {
     "data": {
      "text/plain": [
       "158.0"
      ]
     },
     "execution_count": 18,
     "metadata": {},
     "output_type": "execute_result"
    }
   ],
   "source": [
    "cum"
   ]
  },
  {
   "cell_type": "code",
   "execution_count": null,
   "metadata": {},
   "outputs": [],
   "source": []
  }
 ],
 "metadata": {
  "kernelspec": {
   "display_name": "Python 3",
   "language": "python",
   "name": "python3"
  },
  "language_info": {
   "codemirror_mode": {
    "name": "ipython",
    "version": 3
   },
   "file_extension": ".py",
   "mimetype": "text/x-python",
   "name": "python",
   "nbconvert_exporter": "python",
   "pygments_lexer": "ipython3",
   "version": "3.6.4"
  }
 },
 "nbformat": 4,
 "nbformat_minor": 2
}
