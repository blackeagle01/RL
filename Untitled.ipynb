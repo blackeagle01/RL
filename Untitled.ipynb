{
 "cells": [
  {
   "cell_type": "code",
   "execution_count": 1,
   "metadata": {},
   "outputs": [],
   "source": [
    "from policy import Policy\n",
    "import numpy as np\n",
    "from gridworld import Gridworld"
   ]
  },
  {
   "cell_type": "code",
   "execution_count": 2,
   "metadata": {},
   "outputs": [],
   "source": [
    "g=Gridworld(4)"
   ]
  },
  {
   "cell_type": "code",
   "execution_count": 3,
   "metadata": {},
   "outputs": [],
   "source": [
    "state_space=g.state_space\n",
    "action_space=g.action_space"
   ]
  },
  {
   "cell_type": "code",
   "execution_count": 4,
   "metadata": {},
   "outputs": [],
   "source": [
    "p=Policy(state_space,action_space)\n",
    "\n",
    "v={s:0 for s in state_space}"
   ]
  },
  {
   "cell_type": "code",
   "execution_count": 8,
   "metadata": {},
   "outputs": [],
   "source": [
    "gamma=0.8\n",
    "delta=100"
   ]
  },
  {
   "cell_type": "code",
   "execution_count": 9,
   "metadata": {},
   "outputs": [],
   "source": [
    "while delta>0.01:\n",
    "    delta=0\n",
    "    for s in state_space:\n",
    "        val=0\n",
    "        old=v[s]\n",
    "        for a in action_space:\n",
    "            g.current_state=s\n",
    "            newstate,reward=g.step(a)\n",
    "            val+=p.pi[s][a]*(reward + gamma * v[newstate])\n",
    "        v[s]=val\n",
    "        delta=max(delta,abs(old-v[s]))\n"
   ]
  },
  {
   "cell_type": "code",
   "execution_count": 76,
   "metadata": {},
   "outputs": [
    {
     "data": {
      "text/plain": [
       "0.007700431017240383"
      ]
     },
     "execution_count": 76,
     "metadata": {},
     "output_type": "execute_result"
    }
   ],
   "source": [
    "delta"
   ]
  },
  {
   "cell_type": "code",
   "execution_count": 95,
   "metadata": {},
   "outputs": [],
   "source": [
    "def zeros(n):\n",
    "    return '0'*(n)\n",
    "\n",
    "\n",
    "def pattern(n):\n",
    "    if n==1:\n",
    "        print(1)\n",
    "    \n",
    "    else:\n",
    "        pattern(n-1)\n",
    "        \n",
    "        print(str(n-1) + zeros(n-2) + str(n-1))"
   ]
  },
  {
   "cell_type": "code",
   "execution_count": 101,
   "metadata": {},
   "outputs": [
    {
     "name": "stdout",
     "output_type": "stream",
     "text": [
      "1\n",
      "11\n",
      "202\n",
      "3003\n",
      "40004\n"
     ]
    }
   ],
   "source": [
    "pattern(5)"
   ]
  },
  {
   "cell_type": "code",
   "execution_count": 10,
   "metadata": {},
   "outputs": [
    {
     "data": {
      "text/plain": [
       "{(0, 0): 0.0,\n",
       " (0, 1): -3.3380632128689918,\n",
       " (0, 2): -4.2983107344484965,\n",
       " (0, 3): -4.527072140877084,\n",
       " (1, 0): -3.3380632128689918,\n",
       " (1, 1): -4.072499491760448,\n",
       " (1, 2): -4.348322490289455,\n",
       " (1, 3): -4.303094472127112,\n",
       " (2, 0): -4.298310734448496,\n",
       " (2, 1): -4.348322490289455,\n",
       " (2, 2): -4.076037467816498,\n",
       " (2, 3): -3.3441806238390797,\n",
       " (3, 0): -4.527072140877085,\n",
       " (3, 1): -4.303094472127112,\n",
       " (3, 2): -3.3441806238390797,\n",
       " (3, 3): 0.0}"
      ]
     },
     "execution_count": 10,
     "metadata": {},
     "output_type": "execute_result"
    }
   ],
   "source": [
    "v"
   ]
  },
  {
   "cell_type": "code",
   "execution_count": 7,
   "metadata": {},
   "outputs": [],
   "source": [
    "import random"
   ]
  },
  {
   "cell_type": "code",
   "execution_count": null,
   "metadata": {},
   "outputs": [],
   "source": [
    "class "
   ]
  }
 ],
 "metadata": {
  "kernelspec": {
   "display_name": "Python 3",
   "language": "python",
   "name": "python3"
  },
  "language_info": {
   "codemirror_mode": {
    "name": "ipython",
    "version": 3
   },
   "file_extension": ".py",
   "mimetype": "text/x-python",
   "name": "python",
   "nbconvert_exporter": "python",
   "pygments_lexer": "ipython3",
   "version": "3.6.4"
  }
 },
 "nbformat": 4,
 "nbformat_minor": 2
}
