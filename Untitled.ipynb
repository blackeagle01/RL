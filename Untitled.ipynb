{
 "cells": [
  {
   "cell_type": "code",
   "execution_count": 44,
   "metadata": {},
   "outputs": [],
   "source": [
    "from policies import *\n",
    "from environments import Bandit\n",
    "import numpy as np\n",
    "from Simulation import Simulator"
   ]
  },
  {
   "cell_type": "code",
   "execution_count": 65,
   "metadata": {},
   "outputs": [
    {
     "name": "stdout",
     "output_type": "stream",
     "text": [
      "Simulation Complete\n"
     ]
    },
    {
     "data": {
      "image/png": "[encoded data removed]",
      "text/plain": [
       "<Figure size 432x288 with 1 Axes>"
      ]
     },
     "metadata": {},
     "output_type": "display_data"
    },
    {
     "name": "stdout",
     "output_type": "stream",
     "text": [
      "Optimal Arm = 61\n",
      "Average Regret = 1942.1411961996787\n",
      "Environments Distribution = [0.74413563 0.84844893 0.10297092 0.1590607  0.74529265 0.74708177\n",
      " 0.44125925 0.24108141 0.38830328 0.08348348 0.03396818 0.47256391\n",
      " 0.26590913 0.01240673 0.75672721 0.28359556 0.93549558 0.44167317\n",
      " 0.59338418 0.35828121 0.96944927 0.27113468 0.12397799 0.10567729\n",
      " 0.30641767 0.38156877 0.56358729 0.92692264 0.83659439 0.28821706\n",
      " 0.80854242 0.85156475 0.68730132 0.41787092 0.03912804 0.35373045\n",
      " 0.76725332 0.72255425 0.80251212 0.24147363 0.88383677 0.24154953\n",
      " 0.57304402 0.2086805  0.80669669 0.64888645 0.49590524 0.4245939\n",
      " 0.92145309 0.61404393 0.15356574 0.13084995 0.17083892 0.96993253\n",
      " 0.36386668 0.27756768 0.7506871  0.66672114 0.25121317 0.02314318\n",
      " 0.12814276 0.99385983 0.56109628 0.72422924 0.76361691 0.92917007\n",
      " 0.4404081  0.69302575 0.92616583 0.29978922 0.7813829  0.44593622\n",
      " 0.94688647 0.60130288 0.34910555 0.86595978 0.51475002 0.24315788\n",
      " 0.06865178 0.78215711 0.45100488 0.69636405 0.06937526 0.9473162\n",
      " 0.38050487 0.77178817 0.68424499 0.07372479 0.56414788 0.04874307\n",
      " 0.60505755 0.55070222 0.32712521 0.61674261 0.44950036 0.8418676\n",
      " 0.21202105 0.487125   0.73337701 0.80678525]\n"
     ]
    },
    {
     "data": {
      "image/png": "[encoded data removed]",
      "text/plain": [
       "<Figure size 432x288 with 1 Axes>"
      ]
     },
     "metadata": {},
     "output_type": "display_data"
    },
    {
     "name": "stdout",
     "output_type": "stream",
     "text": [
      "61\n"
     ]
    }
   ],
   "source": [
    "\n",
    "agent=UCB(num_arms=100)\n",
    "env=Bandit(num_arms=100)\n",
    "\n",
    "s=Simulator(agent,env)\n",
    "\n",
    "s.run_simulation(num_trials=20000)\n",
    "print(np.argmax(agent.num_pulls))"
   ]
  },
  {
   "cell_type": "code",
   "execution_count": 22,
   "metadata": {},
   "outputs": [
    {
     "data": {
      "text/plain": [
       "array([0.254479  , 0.84910774, 0.66372328, 0.89439659, 0.52420144,\n",
       "       0.43903109, 0.91005622, 0.61985377, 0.25177756, 0.35162021])"
      ]
     },
     "execution_count": 22,
     "metadata": {},
     "output_type": "execute_result"
    }
   ],
   "source": [
    "env.arm_probabilities"
   ]
  },
  {
   "cell_type": "code",
   "execution_count": null,
   "metadata": {},
   "outputs": [],
   "source": []
  },
  {
   "cell_type": "code",
   "execution_count": 43,
   "metadata": {},
   "outputs": [],
   "source": [
    "import numpy as np\n",
    "a=np.ones(shape=(5,))"
   ]
  },
  {
   "cell_type": "code",
   "execution_count": 44,
   "metadata": {},
   "outputs": [
    {
     "data": {
      "text/plain": [
       "array([1., 2., 3., 4., 5.])"
      ]
     },
     "execution_count": 44,
     "metadata": {},
     "output_type": "execute_result"
    }
   ],
   "source": [
    "np.cumsum(a)"
   ]
  },
  {
   "cell_type": "code",
   "execution_count": null,
   "metadata": {},
   "outputs": [],
   "source": [
    "a.dtype"
   ]
  },
  {
   "cell_type": "code",
   "execution_count": 9,
   "metadata": {},
   "outputs": [
    {
     "data": {
      "text/plain": [
       "1.0"
      ]
     },
     "execution_count": 9,
     "metadata": {},
     "output_type": "execute_result"
    }
   ],
   "source": [
    "np.max(a)"
   ]
  },
  {
   "cell_type": "code",
   "execution_count": 10,
   "metadata": {},
   "outputs": [],
   "source": [
    "import matplotlib.pyplot as plt"
   ]
  },
  {
   "cell_type": "code",
   "execution_count": 5,
   "metadata": {},
   "outputs": [
    {
     "data": {
      "text/plain": [
       "array([211.,  12., 418.,  24.,  85.,  92.,  26.,  52.,  68.,  12.])"
      ]
     },
     "execution_count": 5,
     "metadata": {},
     "output_type": "execute_result"
    }
   ],
   "source": [
    "agent.num_pulls"
   ]
  },
  {
   "cell_type": "code",
   "execution_count": 6,
   "metadata": {},
   "outputs": [],
   "source": [
    "import matplotlib.pyplot as plt"
   ]
  },
  {
   "cell_type": "code",
   "execution_count": 7,
   "metadata": {},
   "outputs": [
    {
     "data": {
      "text/plain": [
       "<BarContainer object of 10 artists>"
      ]
     },
     "execution_count": 7,
     "metadata": {},
     "output_type": "execute_result"
    },
    {
     "data": {
      "image/png": "[encoded data removed]",
      "text/plain": [
       "<Figure size 432x288 with 1 Axes>"
      ]
     },
     "metadata": {},
     "output_type": "display_data"
    }
   ],
   "source": [
    "import numpy as np\n",
    "plt.bar(x=np.arange(agent.num_arms),height=agent.num_pulls)"
   ]
  },
  {
   "cell_type": "code",
   "execution_count": null,
   "metadata": {},
   "outputs": [],
   "source": []
  }
 ],
 "metadata": {
  "kernelspec": {
   "display_name": "Python 3",
   "language": "python",
   "name": "python3"
  },
  "language_info": {
   "codemirror_mode": {
    "name": "ipython",
    "version": 3
   },
   "file_extension": ".py",
   "mimetype": "text/x-python",
   "name": "python",
   "nbconvert_exporter": "python",
   "pygments_lexer": "ipython3",
   "version": "3.6.4"
  }
 },
 "nbformat": 4,
 "nbformat_minor": 2
}
